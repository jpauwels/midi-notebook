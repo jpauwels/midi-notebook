{
 "cells": [
  {
   "cell_type": "markdown",
   "metadata": {
    "run_control": {}
   },
   "source": [
    "# The MIDI protocol - Peeking inside the wire"
   ]
  },
  {
   "cell_type": "markdown",
   "metadata": {
    "run_control": {}
   },
   "source": [
    "Welcome to this interactive Jupyter Notebook which will show you the inner workings of the MIDI protocol, which is responsible for the communication between dedicated music controllers and digital audio workstations.\n",
    "\n",
    "Follow the instruction in this notebook and work through it cell-by-cell in order. Cells can be edited by double-clicking on them. You can execute code or save text by pressing 'shift+enter' inside the cell.\n",
    "\n",
    "Let's get started!"
   ]
  },
  {
   "cell_type": "markdown",
   "metadata": {
    "run_control": {}
   },
   "source": [
    "## Setting up your controller"
   ]
  },
  {
   "cell_type": "markdown",
   "metadata": {
    "run_control": {}
   },
   "source": [
    "Connect a controller to your computer by USB. Then execute the code below, which will list all connected MIDI input devices."
   ]
  },
  {
   "cell_type": "code",
   "execution_count": null,
   "metadata": {
    "button": false,
    "new_sheet": false,
    "run_control": {
     "read_only": false
    }
   },
   "outputs": [],
   "source": [
    "import mido\n",
    "mido.get_input_names()"
   ]
  },
  {
   "cell_type": "markdown",
   "metadata": {
    "run_control": {}
   },
   "source": [
    "Copy and paste the exact name of the controller you want to use from the list above to the cell below. If the name of the controller you just plugged in is not included in the list, ask for help."
   ]
  },
  {
   "cell_type": "code",
   "execution_count": null,
   "metadata": {
    "run_control": {}
   },
   "outputs": [],
   "source": [
    "device_name = '<paste name here>'"
   ]
  },
  {
   "cell_type": "markdown",
   "metadata": {
    "run_control": {}
   },
   "source": [
    "Simply execute the code below. It won't return any output, but it contains the main functionality to intercept the MIDI messages from the controller and display them."
   ]
  },
  {
   "cell_type": "code",
   "execution_count": null,
   "metadata": {
    "button": false,
    "new_sheet": false,
    "run_control": {
     "read_only": false
    }
   },
   "outputs": [],
   "source": [
    "import sys\n",
    "import time\n",
    "import mido\n",
    "import threading\n",
    "\n",
    "def print_midi_message(port, message):\n",
    "    print(\"[{}] @{:0.6f} {}\".format(port.name, message.time, message.bytes()))\n",
    "    \n",
    "def read_input(input_buffer):\n",
    "    input_buffer.append(input('Press enter to stop: '))\n",
    "    \n",
    "def read_midi_messages(device_name):\n",
    "    input_buffer = []\n",
    "    threading.Thread(target=read_input, args=(input_buffer,)).start()\n",
    "    timer = time.time()\n",
    "\n",
    "    with mido.open_input(device_name) as port:\n",
    "        while True:\n",
    "            for message in port.iter_pending():\n",
    "                message.time = time.time()-timer\n",
    "                print_midi_message(port, message)\n",
    "            time.sleep(0.01)\n",
    "            if input_buffer:\n",
    "                break"
   ]
  },
  {
   "cell_type": "markdown",
   "metadata": {
    "run_control": {}
   },
   "source": [
    "Let's see if our setup works! Execute the cell below and start manipulating your controller: press buttons, turn knobs, etc. If you want to stop, press \"enter\" inside the box on top.\n",
    "\n",
    "Can you see MIDI messages appear below? If not, ask for help. Feel free to start over by executing the cell again."
   ]
  },
  {
   "cell_type": "code",
   "execution_count": null,
   "metadata": {
    "run_control": {}
   },
   "outputs": [],
   "source": [
    "read_midi_messages(device_name)"
   ]
  },
  {
   "cell_type": "markdown",
   "metadata": {
    "run_control": {}
   },
   "source": [
    "If everything went well, you'll see a list of messages of the form \"[USB Oxygen 8 v2] @2.082988 [144, 62, 81]\". First the MIDI port (device name) is displayed, followed by a time-stamp (the time since execution started). The final list of numbers is the raw data of the message. Let's have a deeper look at what these numbers represent."
   ]
  },
  {
   "cell_type": "markdown",
   "metadata": {
    "run_control": {}
   },
   "source": [
    "## Focus on keyboard keys"
   ]
  },
  {
   "cell_type": "markdown",
   "metadata": {
    "run_control": {}
   },
   "source": [
    "Let's focus first on the black and white keyboard keys. Execute the cell below and press the keyboard keys (pressing other buttons won't produce any output)."
   ]
  },
  {
   "cell_type": "code",
   "execution_count": null,
   "metadata": {
    "run_control": {}
   },
   "outputs": [],
   "source": [
    "def print_midi_message(port, message):\n",
    "    if message.bytes()[0] >= 128 and message.bytes()[0] < 160:\n",
    "        print(\"[{}] @{:0.6f} {}\".format(port.name, message.time, message.bytes()))\n",
    "read_midi_messages(device_name)"
   ]
  },
  {
   "cell_type": "markdown",
   "metadata": {
    "run_control": {}
   },
   "source": [
    "###### See if you can answer the following questions"
   ]
  },
  {
   "cell_type": "markdown",
   "metadata": {
    "run_control": {}
   },
   "source": [
    "Q: What do all these messages have in common?\n",
    "\n",
    "A: "
   ]
  },
  {
   "cell_type": "markdown",
   "metadata": {
    "run_control": {}
   },
   "source": [
    "Q: How many messages appear per time you strike a key? Why do you think this is?\n",
    "\n",
    "A: "
   ]
  },
  {
   "cell_type": "markdown",
   "metadata": {
    "run_control": {}
   },
   "source": [
    "Q: Try striking the same key multiple times with different force. What changes and what does this mean?\n",
    "\n",
    "A: "
   ]
  },
  {
   "cell_type": "markdown",
   "metadata": {
    "run_control": {}
   },
   "source": [
    "Q: Try striking the same key as soft as possible and as hard as possible. What is the range of values the message can take?\n",
    "\n",
    "A: "
   ]
  },
  {
   "cell_type": "markdown",
   "metadata": {
    "run_control": {}
   },
   "source": [
    "Q: Now strike a different key. What changes and what does this number encode?\n",
    "\n",
    "A: "
   ]
  },
  {
   "cell_type": "markdown",
   "metadata": {
    "run_control": {}
   },
   "source": [
    "Q: What is the lowest value you can make the number that encodes the key position take? And the highest? \n",
    "\n",
    "A: "
   ]
  },
  {
   "cell_type": "markdown",
   "metadata": {
    "run_control": {}
   },
   "source": [
    "## Focus on knobs and buttons"
   ]
  },
  {
   "cell_type": "markdown",
   "metadata": {
    "run_control": {}
   },
   "source": [
    "As you could see in the previous section, messages whose first number lies between 128 and 159 encode note playback. They include information about the exact note being played and its volume. The are other types of messages though, which we will explore in this section. Execute the cell below and try turning knobs and pressing buttons."
   ]
  },
  {
   "cell_type": "code",
   "execution_count": null,
   "metadata": {
    "run_control": {}
   },
   "outputs": [],
   "source": [
    "def print_midi_message(port, message):\n",
    "    if message.bytes()[0] == 176:\n",
    "        print(\"[{}] @{:0.6f} {}\".format(port.name, message.time, message.bytes()))\n",
    "read_midi_messages(device_name)"
   ]
  },
  {
   "cell_type": "markdown",
   "metadata": {
    "run_control": {}
   },
   "source": [
    "###### Try to answer the following questions"
   ]
  },
  {
   "cell_type": "markdown",
   "metadata": {
    "run_control": {}
   },
   "source": [
    "Q: How do you recognise messages about knobs and buttons?\n",
    "\n",
    "A: "
   ]
  },
  {
   "cell_type": "markdown",
   "metadata": {
    "run_control": {}
   },
   "source": [
    "Q: Try turning a knob. What part of the message changes and what does this signify?\n",
    "\n",
    "A: "
   ]
  },
  {
   "cell_type": "markdown",
   "metadata": {
    "run_control": {}
   },
   "source": [
    "Q: If you turn a knob to its minimum and maximum position, what values does it take? What does this imply for the parameter the knob controls (hint: resolution)?\n",
    "\n",
    "A: "
   ]
  },
  {
   "cell_type": "markdown",
   "metadata": {
    "run_control": {}
   },
   "source": [
    "Q: Now press a button. How does this compare to turning a knob?\n",
    "\n",
    "A: "
   ]
  },
  {
   "cell_type": "markdown",
   "metadata": {
    "run_control": {}
   },
   "source": [
    "## Controller swap"
   ]
  },
  {
   "cell_type": "markdown",
   "metadata": {
    "run_control": {}
   },
   "source": [
    "Find a colleague who's also completed the previous section and who has a different model or brand of controller. Swap controllers and plug in the new one."
   ]
  },
  {
   "cell_type": "markdown",
   "metadata": {
    "run_control": {}
   },
   "source": [
    "First you will need to copy-paste the name of the new controller."
   ]
  },
  {
   "cell_type": "code",
   "execution_count": null,
   "metadata": {
    "run_control": {}
   },
   "outputs": [],
   "source": [
    "import mido\n",
    "mido.get_input_names()"
   ]
  },
  {
   "cell_type": "code",
   "execution_count": null,
   "metadata": {},
   "outputs": [],
   "source": [
    "device_name = '<paste name here>'"
   ]
  },
  {
   "cell_type": "markdown",
   "metadata": {
    "run_control": {}
   },
   "source": [
    "Then execute the next cell and briefly try to get the same messages as you created during the previous section."
   ]
  },
  {
   "cell_type": "code",
   "execution_count": null,
   "metadata": {
    "run_control": {}
   },
   "outputs": [],
   "source": [
    "def print_midi_message(port, message):\n",
    "    print(\"[{}] @{:0.6f} {}\".format(port.name, message.time, message.bytes()))\n",
    "read_midi_messages(device_name)"
   ]
  },
  {
   "cell_type": "markdown",
   "metadata": {
    "run_control": {}
   },
   "source": [
    "Q: Did you manage to recreate the same messages?\n",
    "\n",
    "A: "
   ]
  },
  {
   "cell_type": "markdown",
   "metadata": {
    "run_control": {}
   },
   "source": [
    "## Playground"
   ]
  },
  {
   "cell_type": "markdown",
   "metadata": {
    "run_control": {}
   },
   "source": [
    "Finally, because the MIDI protocol is standardised, it is easy to write software that interprets the MIDI messages and formats them into a more human-readable format. Try executing the following cell and play around with the elements on your controller."
   ]
  },
  {
   "cell_type": "code",
   "execution_count": null,
   "metadata": {
    "run_control": {}
   },
   "outputs": [],
   "source": [
    "def print_midi_message(port, message):\n",
    "    print(\"[{}] {}\".format(port.name, message))\n",
    "read_midi_messages(device_name)"
   ]
  },
  {
   "cell_type": "markdown",
   "metadata": {
    "run_control": {}
   },
   "source": [
    "Isn't it easier to understand what's going on this way?"
   ]
  },
  {
   "cell_type": "markdown",
   "metadata": {
    "run_control": {}
   },
   "source": [
    "Q: Can you discover extra functionality that hasn't been discussed yet?\n",
    "\n",
    "A: "
   ]
  },
  {
   "cell_type": "code",
   "execution_count": null,
   "metadata": {
    "run_control": {}
   },
   "outputs": [],
   "source": []
  }
 ],
 "metadata": {
  "kernelspec": {
   "display_name": "Python 3",
   "language": "python",
   "name": "python3"
  },
  "language_info": {
   "codemirror_mode": {
    "name": "ipython",
    "version": 3
   },
   "file_extension": ".py",
   "mimetype": "text/x-python",
   "name": "python",
   "nbconvert_exporter": "python",
   "pygments_lexer": "ipython3",
   "version": "3.6.4"
  },
  "toc": {
   "nav_menu": {},
   "number_sections": true,
   "sideBar": true,
   "skip_h1_title": true,
   "title_cell": "Table of Contents",
   "title_sidebar": "Contents",
   "toc_cell": false,
   "toc_position": {},
   "toc_section_display": true,
   "toc_window_display": false
  }
 },
 "nbformat": 4,
 "nbformat_minor": 1
}
